{
 "cells": [
  {
   "cell_type": "markdown",
   "metadata": {
    "collapsed": true
   },
   "source": [
    "# 逻辑回归"
   ]
  },
  {
   "cell_type": "markdown",
   "metadata": {},
   "source": [
    "## 1 Tensorflow模型"
   ]
  },
  {
   "cell_type": "code",
   "execution_count": 20,
   "metadata": {
    "scrolled": true
   },
   "outputs": [
    {
     "name": "stdout",
     "output_type": "stream",
     "text": [
      "Extracting ./aaa/train-images-idx3-ubyte.gz\n",
      "Extracting ./aaa/train-labels-idx1-ubyte.gz\n",
      "Extracting ./aaa/t10k-images-idx3-ubyte.gz\n",
      "Extracting ./aaa/t10k-labels-idx1-ubyte.gz\n"
     ]
    }
   ],
   "source": [
    "import tensorflow as tf\n",
    "from __future__ import print_function\n",
    "# Import MINST data\n",
    "from tensorflow.examples.tutorials.mnist import input_data\n",
    "mnist = input_data.read_data_sets(\"./aaa/\", one_hot=True)\n"
   ]
  },
  {
   "cell_type": "code",
   "execution_count": 21,
   "metadata": {},
   "outputs": [
    {
     "name": "stdout",
     "output_type": "stream",
     "text": [
      "Training Pic: (55000, 784)\n",
      "Training Label: (55000, 10)\n",
      "Validation Pic: (5000, 784)\n",
      "Validation Label: (5000, 10)\n",
      "Testing Pic: (10000, 784)\n",
      "Testing Label: (10000, 10)\n"
     ]
    }
   ],
   "source": [
    "print('Training Pic:',mnist.train.images.shape)\n",
    "print('Training Label:',mnist.train.labels.shape)\n",
    "print('Validation Pic:',mnist.validation.images.shape)\n",
    "print('Validation Label:',mnist.validation.labels.shape)\n",
    "print('Testing Pic:',mnist.test.images.shape)\n",
    "print('Testing Label:',mnist.test.labels.shape)"
   ]
  },
  {
   "cell_type": "code",
   "execution_count": 22,
   "metadata": {},
   "outputs": [],
   "source": [
    "# Parameters\n",
    "learning_rate = 0.01\n",
    "training_epochs = 25\n",
    "batch_size = 100\n",
    "display_step = 1\n",
    "\n",
    "# tf Graph Input\n",
    "x = tf.placeholder(tf.float32, [None, 784]) # mnist data image of shape 28*28=784\n",
    "y = tf.placeholder(tf.float32, [None, 10]) # 0-9 digits recognition => 10 classes\n",
    "\n",
    "# Set model weights\n",
    "W = tf.Variable(tf.zeros([784, 10]))\n",
    "b = tf.Variable(tf.zeros([10]))\n",
    "\n",
    "# Construct model\n",
    "pred = tf.nn.softmax(tf.matmul(x, W) + b) # Softmax\n",
    "\n",
    "# Minimize error using cross entropy\n",
    "cost = tf.reduce_mean(-tf.reduce_sum(y*tf.log(pred), reduction_indices=1))\n",
    "# Gradient Descent\n",
    "optimizer = tf.train.GradientDescentOptimizer(learning_rate).minimize(cost)\n",
    "\n",
    "# Initialize the variables (i.e. assign their default value)\n",
    "init = tf.global_variables_initializer()"
   ]
  },
  {
   "cell_type": "code",
   "execution_count": 24,
   "metadata": {},
   "outputs": [
    {
     "name": "stdout",
     "output_type": "stream",
     "text": [
      "Epoch: 0001 cost= 1.183836952\n",
      "Epoch: 0002 cost= 0.665236634\n",
      "Epoch: 0003 cost= 0.552802216\n",
      "Epoch: 0004 cost= 0.498660647\n",
      "Epoch: 0005 cost= 0.465541036\n",
      "Epoch: 0006 cost= 0.442595488\n",
      "Epoch: 0007 cost= 0.425526262\n",
      "Epoch: 0008 cost= 0.412193921\n",
      "Epoch: 0009 cost= 0.401363390\n",
      "Epoch: 0010 cost= 0.392402320\n",
      "Epoch: 0011 cost= 0.384782241\n",
      "Epoch: 0012 cost= 0.378195981\n",
      "Epoch: 0013 cost= 0.372411460\n",
      "Epoch: 0014 cost= 0.367341712\n",
      "Epoch: 0015 cost= 0.362640563\n",
      "Epoch: 0016 cost= 0.358609103\n",
      "Epoch: 0017 cost= 0.354882024\n",
      "Epoch: 0018 cost= 0.351479779\n",
      "Epoch: 0019 cost= 0.348336937\n",
      "Epoch: 0020 cost= 0.345432300\n",
      "Epoch: 0021 cost= 0.342742997\n",
      "Epoch: 0022 cost= 0.340268287\n",
      "Epoch: 0023 cost= 0.337882960\n",
      "Epoch: 0024 cost= 0.335713063\n",
      "Epoch: 0025 cost= 0.333741117\n",
      "Optimization Finished!\n",
      "Accuracy: 0.888\n"
     ]
    }
   ],
   "source": [
    "# Start training\n",
    "with tf.Session() as sess:\n",
    "    sess.run(init)\n",
    "\n",
    "    # Training cycle\n",
    "    for epoch in range(training_epochs):\n",
    "        avg_cost = 0.\n",
    "        total_batch = int(mnist.train.num_examples/batch_size)\n",
    "        # Loop over all batches\n",
    "        for i in range(total_batch):\n",
    "            batch_xs, batch_ys = mnist.train.next_batch(batch_size)\n",
    "            # Fit training using batch data\n",
    "            _, c = sess.run([optimizer, cost], feed_dict={x: batch_xs,\n",
    "                                                          y: batch_ys})\n",
    "            # Compute average loss\n",
    "            avg_cost += c / total_batch\n",
    "        # Display logs per epoch step\n",
    "        if (epoch+1) % display_step == 0:\n",
    "            print(\"Epoch:\", '%04d' % (epoch+1), \"cost=\", \"{:.9f}\".format(avg_cost))\n",
    "\n",
    "    print(\"Optimization Finished!\")\n",
    "\n",
    "    # Test model\n",
    "    correct_prediction = tf.equal(tf.argmax(pred, 1), tf.argmax(y, 1))\n",
    "    # Calculate accuracy for 3000 examples\n",
    "    accuracy = tf.reduce_mean(tf.cast(correct_prediction, tf.float32))\n",
    "    print(\"Accuracy:\", accuracy.eval({x: mnist.test.images[:3000], y: mnist.test.labels[:3000]}))"
   ]
  },
  {
   "cell_type": "code",
   "execution_count": 25,
   "metadata": {},
   "outputs": [],
   "source": [
    "with tf.summary.FileWriter(logdir='logs_linear_regression', graph=tf.get_default_graph()) as writer:\n",
    "    writer.flush()"
   ]
  },
  {
   "cell_type": "code",
   "execution_count": 26,
   "metadata": {},
   "outputs": [
    {
     "name": "stdout",
     "output_type": "stream",
     "text": [
      "TensorBoard 0.4.0rc3 at http://1da2a2627c2e:6006 (Press CTRL+C to quit)\n",
      "^C\n"
     ]
    }
   ],
   "source": [
    "!tensorboard --logdir=logs_linear_regression"
   ]
  },
  {
   "cell_type": "markdown",
   "metadata": {},
   "source": [
    "## 2 tf.estimator 模型"
   ]
  },
  {
   "cell_type": "code",
   "execution_count": 43,
   "metadata": {},
   "outputs": [
    {
     "name": "stdout",
     "output_type": "stream",
     "text": [
      "Extracting ./aaa/train-images-idx3-ubyte.gz\n",
      "Extracting ./aaa/train-labels-idx1-ubyte.gz\n",
      "Extracting ./aaa/t10k-images-idx3-ubyte.gz\n",
      "Extracting ./aaa/t10k-labels-idx1-ubyte.gz\n",
      "\n",
      "Test accuracy: 91.39 %\n",
      "\n",
      "Predicted labels from validation set: [3, 0, 4, 1, 9, 2, 1, 3, 1, 4]\n",
      "Underlying values: [5, 0, 4, 1, 9, 2, 1, 3, 1, 4]\n"
     ]
    }
   ],
   "source": [
    "import numpy as np\n",
    "import tensorflow as tf\n",
    "from tensorflow.examples.tutorials.mnist import input_data\n",
    "from tensorflow.contrib.learn import LinearClassifier\n",
    "tf.logging.set_verbosity(tf.logging.ERROR)\n",
    "\n",
    "image_size = 28\n",
    "labels_size = 10\n",
    "hidden_size = 1024\n",
    "\n",
    "# Read in the MNIST dataset\n",
    "mnist = input_data.read_data_sets(\"./aaa/\", one_hot=False)\n",
    "\n",
    "def input_fn(dataset):\n",
    "    features = dataset.images\n",
    "    labels = dataset.labels.astype(np.int32)\n",
    "    return features, labels\n",
    "\n",
    "# Define the Estimator\n",
    "feature_columns = [tf.contrib.layers.real_valued_column(\"\", dimension=image_size*image_size)]\n",
    "classifier = LinearClassifier(feature_columns=feature_columns,\n",
    "                                              n_classes=labels_size,\n",
    "                                              optimizer=tf.train.AdamOptimizer(),\n",
    "                                              model_dir='estim')\n",
    "\n",
    "# Fit the model\n",
    "features, labels = input_fn(mnist.train)\n",
    "classifier.fit(x=features, y=labels, batch_size=100, steps=1000)\n",
    "\n",
    "# Evaluate the model on the test data\n",
    "features, labels = input_fn(mnist.test)\n",
    "test_accuracy = classifier.evaluate(x=features, y=labels, steps=1)[\"accuracy\"]\n",
    "\n",
    "print(\"\\nTest accuracy: %g %%\"%(test_accuracy*100))"
   ]
  },
  {
   "cell_type": "code",
   "execution_count": 44,
   "metadata": {},
   "outputs": [
    {
     "name": "stdout",
     "output_type": "stream",
     "text": [
      "TensorBoard 0.4.0rc3 at http://1da2a2627c2e:6006 (Press CTRL+C to quit)\n",
      "\u001b[33mW0408 13:00:11.756196 Reloader plugin_event_accumulator.py:303] Found more than one graph event per run, or there was a metagraph containing a graph_def, as well as one or more graph events.  Overwriting the graph with the newest event.\n",
      "\u001b[0m\u001b[33mW0408 13:00:11.780200 Reloader plugin_event_accumulator.py:311] Found more than one metagraph event per run. Overwriting the metagraph with the newest event.\n",
      "\u001b[0m^C\n"
     ]
    }
   ],
   "source": [
    "!tensorboard --logdir=estim"
   ]
  },
  {
   "cell_type": "markdown",
   "metadata": {},
   "source": [
    "## 3 tf.keras 模型"
   ]
  },
  {
   "cell_type": "code",
   "execution_count": 4,
   "metadata": {},
   "outputs": [
    {
     "name": "stdout",
     "output_type": "stream",
     "text": [
      "(60000, 'train samples')\n",
      "(10000, 'test samples')\n",
      "Train on 60000 samples, validate on 10000 samples\n",
      "Epoch 1/20\n",
      "60000/60000 [==============================] - 3s - loss: 0.6648 - acc: 0.8229 - val_loss: 0.3465 - val_acc: 0.9030\n",
      "Epoch 2/20\n",
      "60000/60000 [==============================] - 3s - loss: 0.3293 - acc: 0.9078 - val_loss: 0.2977 - val_acc: 0.9138\n",
      "Epoch 3/20\n",
      "60000/60000 [==============================] - 3s - loss: 0.2965 - acc: 0.9166 - val_loss: 0.2798 - val_acc: 0.9215\n",
      "Epoch 4/20\n",
      "60000/60000 [==============================] - 3s - loss: 0.2823 - acc: 0.9212 - val_loss: 0.2762 - val_acc: 0.9229\n",
      "Epoch 5/20\n",
      "60000/60000 [==============================] - 3s - loss: 0.2739 - acc: 0.9232 - val_loss: 0.2698 - val_acc: 0.9247\n",
      "Epoch 6/20\n",
      "60000/60000 [==============================] - 3s - loss: 0.2677 - acc: 0.9253 - val_loss: 0.2726 - val_acc: 0.9237\n",
      "Epoch 7/20\n",
      "60000/60000 [==============================] - 3s - loss: 0.2634 - acc: 0.9272 - val_loss: 0.2695 - val_acc: 0.9257\n",
      "Epoch 8/20\n",
      "60000/60000 [==============================] - 3s - loss: 0.2601 - acc: 0.9288 - val_loss: 0.2678 - val_acc: 0.9256\n",
      "Epoch 9/20\n",
      "60000/60000 [==============================] - 3s - loss: 0.2577 - acc: 0.9286 - val_loss: 0.2679 - val_acc: 0.9245\n",
      "Epoch 10/20\n",
      "60000/60000 [==============================] - 3s - loss: 0.2541 - acc: 0.9298 - val_loss: 0.2667 - val_acc: 0.9274\n",
      "Epoch 11/20\n",
      "60000/60000 [==============================] - 3s - loss: 0.2520 - acc: 0.9305 - val_loss: 0.2659 - val_acc: 0.9270\n",
      "Epoch 12/20\n",
      "60000/60000 [==============================] - 3s - loss: 0.2507 - acc: 0.9306 - val_loss: 0.2632 - val_acc: 0.9267\n",
      "Epoch 13/20\n",
      "60000/60000 [==============================] - 3s - loss: 0.2495 - acc: 0.9310 - val_loss: 0.2663 - val_acc: 0.9265\n",
      "Epoch 14/20\n",
      "60000/60000 [==============================] - 3s - loss: 0.2491 - acc: 0.9310 - val_loss: 0.2671 - val_acc: 0.9260\n",
      "Epoch 15/20\n",
      "60000/60000 [==============================] - 3s - loss: 0.2471 - acc: 0.9315 - val_loss: 0.2654 - val_acc: 0.9263\n",
      "Epoch 16/20\n",
      "60000/60000 [==============================] - 3s - loss: 0.2454 - acc: 0.9313 - val_loss: 0.2675 - val_acc: 0.9263\n",
      "Epoch 17/20\n",
      "60000/60000 [==============================] - 3s - loss: 0.2447 - acc: 0.9327 - val_loss: 0.2649 - val_acc: 0.9267\n",
      "Epoch 18/20\n",
      "60000/60000 [==============================] - 3s - loss: 0.2434 - acc: 0.9331 - val_loss: 0.2663 - val_acc: 0.9270\n",
      "Epoch 19/20\n",
      "60000/60000 [==============================] - 3s - loss: 0.2426 - acc: 0.9331 - val_loss: 0.2697 - val_acc: 0.9254\n",
      "Epoch 20/20\n",
      "60000/60000 [==============================] - 3s - loss: 0.2416 - acc: 0.9342 - val_loss: 0.2674 - val_acc: 0.9260\n",
      "('Test loss:', 0.26744747485816478)\n",
      "('Test accuracy:', 0.92600000000000005)\n"
     ]
    }
   ],
   "source": [
    "from tensorflow.python.keras.datasets import mnist\n",
    "from tensorflow.python.keras.layers import Input, Dense\n",
    "from tensorflow.python.keras.models import Sequential\n",
    "from tensorflow.python.keras.optimizers import SGD, RMSprop\n",
    "from tensorflow.python.keras.utils import to_categorical\n",
    "from tensorflow.python.keras.callbacks import TensorBoard\n",
    "\n",
    "batch_size = 128\n",
    "num_classes = 10\n",
    "epochs = 20\n",
    "\n",
    "# the data, split between train and test sets\n",
    "(x_train, y_train), (x_test, y_test) = mnist.load_data()\n",
    "\n",
    "x_train = x_train.reshape(60000, 784)\n",
    "x_test = x_test.reshape(10000, 784)\n",
    "x_train = x_train.astype('float32')\n",
    "x_test = x_test.astype('float32')\n",
    "x_train /= 255\n",
    "x_test /= 255\n",
    "print(x_train.shape[0], 'train samples')\n",
    "print(x_test.shape[0], 'test samples')\n",
    "\n",
    "# convert class vectors to binary class matrices\n",
    "y_train = to_categorical(y_train, num_classes)\n",
    "y_test = to_categorical(y_test, num_classes)\n",
    "\n",
    "model = Sequential()  \n",
    "model.add(Dense(units=10,input_shape=(784,)))  \n",
    "model.add(Dense(num_classes, activation='softmax'))\n",
    "sgd = SGD(lr=0.000001, decay=1e-6, momentum=0.9, nesterov=True)\n",
    "model.compile(loss='categorical_crossentropy',\n",
    "              optimizer='adam', #sgd, #RMSprop(),\n",
    "              metrics=['accuracy'])\n",
    "\n",
    "history = model.fit(x_train, y_train,\n",
    "                    batch_size=batch_size,\n",
    "                    epochs=epochs,\n",
    "                    verbose=1,\n",
    "                    validation_data=(x_test, y_test),\n",
    "                    callbacks = [TensorBoard(log_dir='keras-log2')])\n",
    "score = model.evaluate(x_test, y_test, verbose=0)\n",
    "print('Test loss:', score[0])\n",
    "print('Test accuracy:', score[1])\n",
    "\n"
   ]
  },
  {
   "cell_type": "code",
   "execution_count": 5,
   "metadata": {},
   "outputs": [
    {
     "name": "stdout",
     "output_type": "stream",
     "text": [
      "TensorBoard 0.4.0rc3 at http://1da2a2627c2e:6006 (Press CTRL+C to quit)\n",
      "^C\n"
     ]
    }
   ],
   "source": [
    "!tensorboard --logdir=keras-log2"
   ]
  },
  {
   "cell_type": "code",
   "execution_count": null,
   "metadata": {},
   "outputs": [],
   "source": []
  }
 ],
 "metadata": {
  "anaconda-cloud": {},
  "kernelspec": {
   "display_name": "Python 2",
   "language": "python",
   "name": "python2"
  },
  "language_info": {
   "codemirror_mode": {
    "name": "ipython",
    "version": 2
   },
   "file_extension": ".py",
   "mimetype": "text/x-python",
   "name": "python",
   "nbconvert_exporter": "python",
   "pygments_lexer": "ipython2",
   "version": "2.7.12"
  }
 },
 "nbformat": 4,
 "nbformat_minor": 1
}
